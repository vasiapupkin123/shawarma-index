{
 "cells": [
  {
   "cell_type": "markdown",
   "metadata": {},
   "source": [
    "# Вспомогательные данные"
   ]
  },
  {
   "cell_type": "code",
   "execution_count": 1,
   "metadata": {
    "collapsed": false
   },
   "outputs": [],
   "source": [
    "import re\n",
    "import time\n",
    "import requests\n",
    "import numpy as np\n",
    "import pandas as pd\n",
    "\n",
    "from tqdm import tqdm_notebook\n",
    "\n",
    "from matplotlib import pyplot as plt\n",
    "%matplotlib inline"
   ]
  },
  {
   "cell_type": "code",
   "execution_count": 71,
   "metadata": {
    "collapsed": true
   },
   "outputs": [],
   "source": [
    "from multiprocessing import Pool\n",
    "import time\n",
    "\n",
    "def multithread_it(func, data, threads=None, max_threads=25, min_threads=1):\n",
    "    # указываем обрабатывающую функцию и список данных, на которых нужно что-то посчитать\n",
    "    # получаем список результатов\n",
    "    if not threads:\n",
    "        threads = max(min_threads,min(len(data), max_threads))\n",
    "    with Pool(threads) as p:\n",
    "        result = p.map(func, data)\n",
    "    return result"
   ]
  },
  {
   "cell_type": "code",
   "execution_count": 3,
   "metadata": {
    "collapsed": true
   },
   "outputs": [],
   "source": [
    "def get_data_from_url(url):\n",
    "    html = requests.get(url).text\n",
    "    listings = html.split('div class=\"serp-item__solid\">\\n\\t\\t\\n')\n",
    "    listings = [listing for i, listing in enumerate(listings) if i%2==1]\n",
    "\n",
    "    rent = []\n",
    "    for listing in listings:\n",
    "        price = int(listing.split('руб')[0].replace(' ',''))\n",
    "        area = int(listing.split('<div class=\"serp-item__solid\">')[1].split('&nbsp;')[0])\n",
    "        rent.append([price, area])\n",
    "    return rent"
   ]
  },
  {
   "cell_type": "markdown",
   "metadata": {},
   "source": [
    "# Берём список регионов"
   ]
  },
  {
   "cell_type": "code",
   "execution_count": 4,
   "metadata": {
    "collapsed": false
   },
   "outputs": [],
   "source": [
    "html = requests.get('https://www.cian.ru').text"
   ]
  },
  {
   "cell_type": "markdown",
   "metadata": {},
   "source": [
    "ниже кусок - это кусок из html, в котором в явном виде в json указаны все регионы"
   ]
  },
  {
   "cell_type": "code",
   "execution_count": 5,
   "metadata": {
    "collapsed": true
   },
   "outputs": [],
   "source": [
    "l = [{\"subdomainName\":\"www\",\"id\":1,\"title\":\"Москва\"},{\"subdomainName\":\"www\",\"id\":4593,\"title\":\"Московская область\"},{\"subdomainName\":\"spb\",\"id\":2,\"title\":\"Санкт-Петербург\"},{\"subdomainName\":\"spb\",\"id\":4588,\"title\":\"Ленинградская область\"},{\"subdomainName\":\"www\",\"id\":4553,\"title\":\"Адыгея\"},{\"subdomainName\":\"www\",\"id\":4554,\"title\":\"Алтай (Республика)\"},{\"subdomainName\":\"www\",\"id\":4555,\"title\":\"Алтайский край\"},{\"subdomainName\":\"www\",\"id\":4556,\"title\":\"Амурская область\"},{\"subdomainName\":\"www\",\"id\":4557,\"title\":\"Архангельская область\"},{\"subdomainName\":\"www\",\"id\":4558,\"title\":\"Астраханская область\"},{\"subdomainName\":\"ufa\",\"id\":4560,\"title\":\"Башкортостан\"},{\"subdomainName\":\"belgorod\",\"id\":4561,\"title\":\"Белгородская область\"},{\"subdomainName\":\"bryansk\",\"id\":4562,\"title\":\"Брянская область\"},{\"subdomainName\":\"www\",\"id\":4563,\"title\":\"Бурятия\"},{\"subdomainName\":\"vladimir\",\"id\":4564,\"title\":\"Владимирская область\"},{\"subdomainName\":\"volgograd\",\"id\":4565,\"title\":\"Волгоградская область\"},{\"subdomainName\":\"www\",\"id\":4566,\"title\":\"Вологодская область\"},{\"subdomainName\":\"voronezh\",\"id\":4567,\"title\":\"Воронежская область\"},{\"subdomainName\":\"www\",\"id\":4568,\"title\":\"Дагестан\"},{\"subdomainName\":\"www\",\"id\":4569,\"title\":\"Еврейская АО\"},{\"subdomainName\":\"www\",\"id\":187450,\"title\":\"Забайкальский край\"},{\"subdomainName\":\"ivanovo\",\"id\":4570,\"title\":\"Ивановская область\"},{\"subdomainName\":\"www\",\"id\":4571,\"title\":\"Ингушетия\"},{\"subdomainName\":\"irkutsk\",\"id\":4572,\"title\":\"Иркутская область\"},{\"subdomainName\":\"www\",\"id\":4573,\"title\":\"Кабардино-Балкария\"},{\"subdomainName\":\"kaliningrad\",\"id\":4574,\"title\":\"Калининградская область\"},{\"subdomainName\":\"www\",\"id\":4575,\"title\":\"Калмыкия\"},{\"subdomainName\":\"kaluga\",\"id\":4576,\"title\":\"Калужская область\"},{\"subdomainName\":\"www\",\"id\":4577,\"title\":\"Камчатский край\"},{\"subdomainName\":\"www\",\"id\":4578,\"title\":\"Карачаево-Черкесия\"},{\"subdomainName\":\"petrozavodsk\",\"id\":4579,\"title\":\"Карелия\"},{\"subdomainName\":\"kemerovo\",\"id\":4580,\"title\":\"Кемеровская область\"},{\"subdomainName\":\"www\",\"id\":4581,\"title\":\"Кировская область\"},{\"subdomainName\":\"www\",\"id\":4582,\"title\":\"Коми\"},{\"subdomainName\":\"www\",\"id\":4583,\"title\":\"Костромская область\"},{\"subdomainName\":\"krasnodar\",\"id\":4584,\"title\":\"Краснодарский край\"},{\"subdomainName\":\"krasnoyarsk\",\"id\":4585,\"title\":\"Красноярский край\"},{\"subdomainName\":\"krym\",\"id\":181462,\"title\":\"Крым\"},{\"subdomainName\":\"www\",\"id\":4586,\"title\":\"Курганская область\"},{\"subdomainName\":\"www\",\"id\":4587,\"title\":\"Курская область\"},{\"subdomainName\":\"lipetsk\",\"id\":4589,\"title\":\"Липецкая область\"},{\"subdomainName\":\"www\",\"id\":4590,\"title\":\"Магаданская область\"},{\"subdomainName\":\"yoshkar-ola\",\"id\":4591,\"title\":\"Марий Эл\"},{\"subdomainName\":\"www\",\"id\":4592,\"title\":\"Мордовия\"},{\"subdomainName\":\"www\",\"id\":4594,\"title\":\"Мурманская область\"},{\"subdomainName\":\"www\",\"id\":4595,\"title\":\"Ненецкий АО\"},{\"subdomainName\":\"nn\",\"id\":4596,\"title\":\"Нижегородская область\"},{\"subdomainName\":\"novgorod\",\"id\":4597,\"title\":\"Новгородская область\"},{\"subdomainName\":\"novosibirsk\",\"id\":4598,\"title\":\"Новосибирская область\"},{\"subdomainName\":\"omsk\",\"id\":4599,\"title\":\"Омская область\"},{\"subdomainName\":\"orenburg\",\"id\":4600,\"title\":\"Оренбургская область\"},{\"subdomainName\":\"www\",\"id\":4601,\"title\":\"Орловская область\"},{\"subdomainName\":\"penza\",\"id\":4602,\"title\":\"Пензенская область\"},{\"subdomainName\":\"perm\",\"id\":4603,\"title\":\"Пермский край\"},{\"subdomainName\":\"www\",\"id\":4604,\"title\":\"Приморский край\"},{\"subdomainName\":\"pskov\",\"id\":4605,\"title\":\"Псковская область\"},{\"subdomainName\":\"rostov\",\"id\":4606,\"title\":\"Ростовская область\"},{\"subdomainName\":\"ryazan\",\"id\":4607,\"title\":\"Рязанская область\"},{\"subdomainName\":\"samara\",\"id\":4608,\"title\":\"Самарская область\"},{\"subdomainName\":\"saratov\",\"id\":4609,\"title\":\"Саратовская область\"},{\"subdomainName\":\"www\",\"id\":4610,\"title\":\"Саха (Якутия)\"},{\"subdomainName\":\"www\",\"id\":4611,\"title\":\"Сахалинская область\"},{\"subdomainName\":\"ekb\",\"id\":4612,\"title\":\"Свердловская область\"},{\"subdomainName\":\"www\",\"id\":184723,\"title\":\"Севастополь\"},{\"subdomainName\":\"www\",\"id\":4613,\"title\":\"Северная Осетия-Алания\"},{\"subdomainName\":\"smolensk\",\"id\":4614,\"title\":\"Смоленская область\"},{\"subdomainName\":\"stavropol\",\"id\":4615,\"title\":\"Ставропольский край\"},{\"subdomainName\":\"www\",\"id\":4617,\"title\":\"Тамбовская область\"},{\"subdomainName\":\"kazan\",\"id\":4618,\"title\":\"Татарстан\"},{\"subdomainName\":\"tver\",\"id\":4619,\"title\":\"Тверская область\"},{\"subdomainName\":\"www\",\"id\":4620,\"title\":\"Томская область\"},{\"subdomainName\":\"tula\",\"id\":4621,\"title\":\"Тульская область\"},{\"subdomainName\":\"www\",\"id\":4622,\"title\":\"Тыва\"},{\"subdomainName\":\"tyumen\",\"id\":4623,\"title\":\"Тюменская область\"},{\"subdomainName\":\"izhevsk\",\"id\":4624,\"title\":\"Удмуртия\"},{\"subdomainName\":\"ulyanovsk\",\"id\":4625,\"title\":\"Ульяновская область\"},{\"subdomainName\":\"www\",\"id\":4627,\"title\":\"Хабаровский край\"},{\"subdomainName\":\"www\",\"id\":4628,\"title\":\"Хакасия\"},{\"subdomainName\":\"hmao\",\"id\":4629,\"title\":\"Ханты-Мансийский АО\"},{\"subdomainName\":\"chelyabinsk\",\"id\":4630,\"title\":\"Челябинская область\"},{\"subdomainName\":\"www\",\"id\":4631,\"title\":\"Чечня\"},{\"subdomainName\":\"www\",\"id\":4633,\"title\":\"Чувашия\"},{\"subdomainName\":\"www\",\"id\":4634,\"title\":\"Чукотский АО\"},{\"subdomainName\":\"yanao\",\"id\":4635,\"title\":\"Ямало-Ненецкий АО\"},{\"subdomainName\":\"yaroslavl\",\"id\":4636,\"title\":\"Ярославская область\"}]"
   ]
  },
  {
   "cell_type": "markdown",
   "metadata": {},
   "source": [
    "вот пример:"
   ]
  },
  {
   "cell_type": "code",
   "execution_count": 6,
   "metadata": {
    "collapsed": false
   },
   "outputs": [
    {
     "data": {
      "text/plain": [
       "{'id': 4560, 'subdomainName': 'ufa', 'title': 'Башкортостан'}"
      ]
     },
     "execution_count": 6,
     "metadata": {},
     "output_type": "execute_result"
    }
   ],
   "source": [
    "l[10]"
   ]
  },
  {
   "cell_type": "code",
   "execution_count": 7,
   "metadata": {
    "collapsed": false
   },
   "outputs": [],
   "source": [
    "regions = pd.DataFrame(l)[['id','title']]"
   ]
  },
  {
   "cell_type": "markdown",
   "metadata": {},
   "source": [
    "#### Формируем url'ы"
   ]
  },
  {
   "cell_type": "code",
   "execution_count": 8,
   "metadata": {
    "collapsed": true
   },
   "outputs": [],
   "source": [
    "url_template = 'https://www.cian.ru/cat.php?deal_type=rent&engine_version=2&offer_type=flat&p={}&region={}&room1=1&type=4'"
   ]
  },
  {
   "cell_type": "code",
   "execution_count": 9,
   "metadata": {
    "collapsed": true
   },
   "outputs": [],
   "source": [
    "regions['listings'] = [None]*len(regions)\n",
    "regions['url_template'] = [url_template.format('{}',id) for id in regions.id]"
   ]
  },
  {
   "cell_type": "code",
   "execution_count": 10,
   "metadata": {
    "collapsed": false
   },
   "outputs": [
    {
     "data": {
      "text/html": [
       "<div>\n",
       "<table border=\"1\" class=\"dataframe\">\n",
       "  <thead>\n",
       "    <tr style=\"text-align: right;\">\n",
       "      <th></th>\n",
       "      <th>id</th>\n",
       "      <th>title</th>\n",
       "      <th>listings</th>\n",
       "      <th>url_template</th>\n",
       "    </tr>\n",
       "  </thead>\n",
       "  <tbody>\n",
       "    <tr>\n",
       "      <th>0</th>\n",
       "      <td>1</td>\n",
       "      <td>Москва</td>\n",
       "      <td>None</td>\n",
       "      <td>https://www.cian.ru/cat.php?deal_type=rent&amp;eng...</td>\n",
       "    </tr>\n",
       "    <tr>\n",
       "      <th>1</th>\n",
       "      <td>4593</td>\n",
       "      <td>Московская область</td>\n",
       "      <td>None</td>\n",
       "      <td>https://www.cian.ru/cat.php?deal_type=rent&amp;eng...</td>\n",
       "    </tr>\n",
       "    <tr>\n",
       "      <th>2</th>\n",
       "      <td>2</td>\n",
       "      <td>Санкт-Петербург</td>\n",
       "      <td>None</td>\n",
       "      <td>https://www.cian.ru/cat.php?deal_type=rent&amp;eng...</td>\n",
       "    </tr>\n",
       "    <tr>\n",
       "      <th>3</th>\n",
       "      <td>4588</td>\n",
       "      <td>Ленинградская область</td>\n",
       "      <td>None</td>\n",
       "      <td>https://www.cian.ru/cat.php?deal_type=rent&amp;eng...</td>\n",
       "    </tr>\n",
       "    <tr>\n",
       "      <th>4</th>\n",
       "      <td>4553</td>\n",
       "      <td>Адыгея</td>\n",
       "      <td>None</td>\n",
       "      <td>https://www.cian.ru/cat.php?deal_type=rent&amp;eng...</td>\n",
       "    </tr>\n",
       "    <tr>\n",
       "      <th>5</th>\n",
       "      <td>4554</td>\n",
       "      <td>Алтай (Республика)</td>\n",
       "      <td>None</td>\n",
       "      <td>https://www.cian.ru/cat.php?deal_type=rent&amp;eng...</td>\n",
       "    </tr>\n",
       "    <tr>\n",
       "      <th>6</th>\n",
       "      <td>4555</td>\n",
       "      <td>Алтайский край</td>\n",
       "      <td>None</td>\n",
       "      <td>https://www.cian.ru/cat.php?deal_type=rent&amp;eng...</td>\n",
       "    </tr>\n",
       "    <tr>\n",
       "      <th>7</th>\n",
       "      <td>4556</td>\n",
       "      <td>Амурская область</td>\n",
       "      <td>None</td>\n",
       "      <td>https://www.cian.ru/cat.php?deal_type=rent&amp;eng...</td>\n",
       "    </tr>\n",
       "    <tr>\n",
       "      <th>8</th>\n",
       "      <td>4557</td>\n",
       "      <td>Архангельская область</td>\n",
       "      <td>None</td>\n",
       "      <td>https://www.cian.ru/cat.php?deal_type=rent&amp;eng...</td>\n",
       "    </tr>\n",
       "    <tr>\n",
       "      <th>9</th>\n",
       "      <td>4558</td>\n",
       "      <td>Астраханская область</td>\n",
       "      <td>None</td>\n",
       "      <td>https://www.cian.ru/cat.php?deal_type=rent&amp;eng...</td>\n",
       "    </tr>\n",
       "    <tr>\n",
       "      <th>10</th>\n",
       "      <td>4560</td>\n",
       "      <td>Башкортостан</td>\n",
       "      <td>None</td>\n",
       "      <td>https://www.cian.ru/cat.php?deal_type=rent&amp;eng...</td>\n",
       "    </tr>\n",
       "    <tr>\n",
       "      <th>11</th>\n",
       "      <td>4561</td>\n",
       "      <td>Белгородская область</td>\n",
       "      <td>None</td>\n",
       "      <td>https://www.cian.ru/cat.php?deal_type=rent&amp;eng...</td>\n",
       "    </tr>\n",
       "    <tr>\n",
       "      <th>12</th>\n",
       "      <td>4562</td>\n",
       "      <td>Брянская область</td>\n",
       "      <td>None</td>\n",
       "      <td>https://www.cian.ru/cat.php?deal_type=rent&amp;eng...</td>\n",
       "    </tr>\n",
       "    <tr>\n",
       "      <th>13</th>\n",
       "      <td>4563</td>\n",
       "      <td>Бурятия</td>\n",
       "      <td>None</td>\n",
       "      <td>https://www.cian.ru/cat.php?deal_type=rent&amp;eng...</td>\n",
       "    </tr>\n",
       "    <tr>\n",
       "      <th>14</th>\n",
       "      <td>4564</td>\n",
       "      <td>Владимирская область</td>\n",
       "      <td>None</td>\n",
       "      <td>https://www.cian.ru/cat.php?deal_type=rent&amp;eng...</td>\n",
       "    </tr>\n",
       "    <tr>\n",
       "      <th>15</th>\n",
       "      <td>4565</td>\n",
       "      <td>Волгоградская область</td>\n",
       "      <td>None</td>\n",
       "      <td>https://www.cian.ru/cat.php?deal_type=rent&amp;eng...</td>\n",
       "    </tr>\n",
       "    <tr>\n",
       "      <th>16</th>\n",
       "      <td>4566</td>\n",
       "      <td>Вологодская область</td>\n",
       "      <td>None</td>\n",
       "      <td>https://www.cian.ru/cat.php?deal_type=rent&amp;eng...</td>\n",
       "    </tr>\n",
       "    <tr>\n",
       "      <th>17</th>\n",
       "      <td>4567</td>\n",
       "      <td>Воронежская область</td>\n",
       "      <td>None</td>\n",
       "      <td>https://www.cian.ru/cat.php?deal_type=rent&amp;eng...</td>\n",
       "    </tr>\n",
       "    <tr>\n",
       "      <th>18</th>\n",
       "      <td>4568</td>\n",
       "      <td>Дагестан</td>\n",
       "      <td>None</td>\n",
       "      <td>https://www.cian.ru/cat.php?deal_type=rent&amp;eng...</td>\n",
       "    </tr>\n",
       "    <tr>\n",
       "      <th>19</th>\n",
       "      <td>4569</td>\n",
       "      <td>Еврейская АО</td>\n",
       "      <td>None</td>\n",
       "      <td>https://www.cian.ru/cat.php?deal_type=rent&amp;eng...</td>\n",
       "    </tr>\n",
       "    <tr>\n",
       "      <th>20</th>\n",
       "      <td>187450</td>\n",
       "      <td>Забайкальский край</td>\n",
       "      <td>None</td>\n",
       "      <td>https://www.cian.ru/cat.php?deal_type=rent&amp;eng...</td>\n",
       "    </tr>\n",
       "    <tr>\n",
       "      <th>21</th>\n",
       "      <td>4570</td>\n",
       "      <td>Ивановская область</td>\n",
       "      <td>None</td>\n",
       "      <td>https://www.cian.ru/cat.php?deal_type=rent&amp;eng...</td>\n",
       "    </tr>\n",
       "    <tr>\n",
       "      <th>22</th>\n",
       "      <td>4571</td>\n",
       "      <td>Ингушетия</td>\n",
       "      <td>None</td>\n",
       "      <td>https://www.cian.ru/cat.php?deal_type=rent&amp;eng...</td>\n",
       "    </tr>\n",
       "    <tr>\n",
       "      <th>23</th>\n",
       "      <td>4572</td>\n",
       "      <td>Иркутская область</td>\n",
       "      <td>None</td>\n",
       "      <td>https://www.cian.ru/cat.php?deal_type=rent&amp;eng...</td>\n",
       "    </tr>\n",
       "    <tr>\n",
       "      <th>24</th>\n",
       "      <td>4573</td>\n",
       "      <td>Кабардино-Балкария</td>\n",
       "      <td>None</td>\n",
       "      <td>https://www.cian.ru/cat.php?deal_type=rent&amp;eng...</td>\n",
       "    </tr>\n",
       "    <tr>\n",
       "      <th>25</th>\n",
       "      <td>4574</td>\n",
       "      <td>Калининградская область</td>\n",
       "      <td>None</td>\n",
       "      <td>https://www.cian.ru/cat.php?deal_type=rent&amp;eng...</td>\n",
       "    </tr>\n",
       "    <tr>\n",
       "      <th>26</th>\n",
       "      <td>4575</td>\n",
       "      <td>Калмыкия</td>\n",
       "      <td>None</td>\n",
       "      <td>https://www.cian.ru/cat.php?deal_type=rent&amp;eng...</td>\n",
       "    </tr>\n",
       "    <tr>\n",
       "      <th>27</th>\n",
       "      <td>4576</td>\n",
       "      <td>Калужская область</td>\n",
       "      <td>None</td>\n",
       "      <td>https://www.cian.ru/cat.php?deal_type=rent&amp;eng...</td>\n",
       "    </tr>\n",
       "    <tr>\n",
       "      <th>28</th>\n",
       "      <td>4577</td>\n",
       "      <td>Камчатский край</td>\n",
       "      <td>None</td>\n",
       "      <td>https://www.cian.ru/cat.php?deal_type=rent&amp;eng...</td>\n",
       "    </tr>\n",
       "    <tr>\n",
       "      <th>29</th>\n",
       "      <td>4578</td>\n",
       "      <td>Карачаево-Черкесия</td>\n",
       "      <td>None</td>\n",
       "      <td>https://www.cian.ru/cat.php?deal_type=rent&amp;eng...</td>\n",
       "    </tr>\n",
       "    <tr>\n",
       "      <th>...</th>\n",
       "      <td>...</td>\n",
       "      <td>...</td>\n",
       "      <td>...</td>\n",
       "      <td>...</td>\n",
       "    </tr>\n",
       "    <tr>\n",
       "      <th>55</th>\n",
       "      <td>4605</td>\n",
       "      <td>Псковская область</td>\n",
       "      <td>None</td>\n",
       "      <td>https://www.cian.ru/cat.php?deal_type=rent&amp;eng...</td>\n",
       "    </tr>\n",
       "    <tr>\n",
       "      <th>56</th>\n",
       "      <td>4606</td>\n",
       "      <td>Ростовская область</td>\n",
       "      <td>None</td>\n",
       "      <td>https://www.cian.ru/cat.php?deal_type=rent&amp;eng...</td>\n",
       "    </tr>\n",
       "    <tr>\n",
       "      <th>57</th>\n",
       "      <td>4607</td>\n",
       "      <td>Рязанская область</td>\n",
       "      <td>None</td>\n",
       "      <td>https://www.cian.ru/cat.php?deal_type=rent&amp;eng...</td>\n",
       "    </tr>\n",
       "    <tr>\n",
       "      <th>58</th>\n",
       "      <td>4608</td>\n",
       "      <td>Самарская область</td>\n",
       "      <td>None</td>\n",
       "      <td>https://www.cian.ru/cat.php?deal_type=rent&amp;eng...</td>\n",
       "    </tr>\n",
       "    <tr>\n",
       "      <th>59</th>\n",
       "      <td>4609</td>\n",
       "      <td>Саратовская область</td>\n",
       "      <td>None</td>\n",
       "      <td>https://www.cian.ru/cat.php?deal_type=rent&amp;eng...</td>\n",
       "    </tr>\n",
       "    <tr>\n",
       "      <th>60</th>\n",
       "      <td>4610</td>\n",
       "      <td>Саха (Якутия)</td>\n",
       "      <td>None</td>\n",
       "      <td>https://www.cian.ru/cat.php?deal_type=rent&amp;eng...</td>\n",
       "    </tr>\n",
       "    <tr>\n",
       "      <th>61</th>\n",
       "      <td>4611</td>\n",
       "      <td>Сахалинская область</td>\n",
       "      <td>None</td>\n",
       "      <td>https://www.cian.ru/cat.php?deal_type=rent&amp;eng...</td>\n",
       "    </tr>\n",
       "    <tr>\n",
       "      <th>62</th>\n",
       "      <td>4612</td>\n",
       "      <td>Свердловская область</td>\n",
       "      <td>None</td>\n",
       "      <td>https://www.cian.ru/cat.php?deal_type=rent&amp;eng...</td>\n",
       "    </tr>\n",
       "    <tr>\n",
       "      <th>63</th>\n",
       "      <td>184723</td>\n",
       "      <td>Севастополь</td>\n",
       "      <td>None</td>\n",
       "      <td>https://www.cian.ru/cat.php?deal_type=rent&amp;eng...</td>\n",
       "    </tr>\n",
       "    <tr>\n",
       "      <th>64</th>\n",
       "      <td>4613</td>\n",
       "      <td>Северная Осетия-Алания</td>\n",
       "      <td>None</td>\n",
       "      <td>https://www.cian.ru/cat.php?deal_type=rent&amp;eng...</td>\n",
       "    </tr>\n",
       "    <tr>\n",
       "      <th>65</th>\n",
       "      <td>4614</td>\n",
       "      <td>Смоленская область</td>\n",
       "      <td>None</td>\n",
       "      <td>https://www.cian.ru/cat.php?deal_type=rent&amp;eng...</td>\n",
       "    </tr>\n",
       "    <tr>\n",
       "      <th>66</th>\n",
       "      <td>4615</td>\n",
       "      <td>Ставропольский край</td>\n",
       "      <td>None</td>\n",
       "      <td>https://www.cian.ru/cat.php?deal_type=rent&amp;eng...</td>\n",
       "    </tr>\n",
       "    <tr>\n",
       "      <th>67</th>\n",
       "      <td>4617</td>\n",
       "      <td>Тамбовская область</td>\n",
       "      <td>None</td>\n",
       "      <td>https://www.cian.ru/cat.php?deal_type=rent&amp;eng...</td>\n",
       "    </tr>\n",
       "    <tr>\n",
       "      <th>68</th>\n",
       "      <td>4618</td>\n",
       "      <td>Татарстан</td>\n",
       "      <td>None</td>\n",
       "      <td>https://www.cian.ru/cat.php?deal_type=rent&amp;eng...</td>\n",
       "    </tr>\n",
       "    <tr>\n",
       "      <th>69</th>\n",
       "      <td>4619</td>\n",
       "      <td>Тверская область</td>\n",
       "      <td>None</td>\n",
       "      <td>https://www.cian.ru/cat.php?deal_type=rent&amp;eng...</td>\n",
       "    </tr>\n",
       "    <tr>\n",
       "      <th>70</th>\n",
       "      <td>4620</td>\n",
       "      <td>Томская область</td>\n",
       "      <td>None</td>\n",
       "      <td>https://www.cian.ru/cat.php?deal_type=rent&amp;eng...</td>\n",
       "    </tr>\n",
       "    <tr>\n",
       "      <th>71</th>\n",
       "      <td>4621</td>\n",
       "      <td>Тульская область</td>\n",
       "      <td>None</td>\n",
       "      <td>https://www.cian.ru/cat.php?deal_type=rent&amp;eng...</td>\n",
       "    </tr>\n",
       "    <tr>\n",
       "      <th>72</th>\n",
       "      <td>4622</td>\n",
       "      <td>Тыва</td>\n",
       "      <td>None</td>\n",
       "      <td>https://www.cian.ru/cat.php?deal_type=rent&amp;eng...</td>\n",
       "    </tr>\n",
       "    <tr>\n",
       "      <th>73</th>\n",
       "      <td>4623</td>\n",
       "      <td>Тюменская область</td>\n",
       "      <td>None</td>\n",
       "      <td>https://www.cian.ru/cat.php?deal_type=rent&amp;eng...</td>\n",
       "    </tr>\n",
       "    <tr>\n",
       "      <th>74</th>\n",
       "      <td>4624</td>\n",
       "      <td>Удмуртия</td>\n",
       "      <td>None</td>\n",
       "      <td>https://www.cian.ru/cat.php?deal_type=rent&amp;eng...</td>\n",
       "    </tr>\n",
       "    <tr>\n",
       "      <th>75</th>\n",
       "      <td>4625</td>\n",
       "      <td>Ульяновская область</td>\n",
       "      <td>None</td>\n",
       "      <td>https://www.cian.ru/cat.php?deal_type=rent&amp;eng...</td>\n",
       "    </tr>\n",
       "    <tr>\n",
       "      <th>76</th>\n",
       "      <td>4627</td>\n",
       "      <td>Хабаровский край</td>\n",
       "      <td>None</td>\n",
       "      <td>https://www.cian.ru/cat.php?deal_type=rent&amp;eng...</td>\n",
       "    </tr>\n",
       "    <tr>\n",
       "      <th>77</th>\n",
       "      <td>4628</td>\n",
       "      <td>Хакасия</td>\n",
       "      <td>None</td>\n",
       "      <td>https://www.cian.ru/cat.php?deal_type=rent&amp;eng...</td>\n",
       "    </tr>\n",
       "    <tr>\n",
       "      <th>78</th>\n",
       "      <td>4629</td>\n",
       "      <td>Ханты-Мансийский АО</td>\n",
       "      <td>None</td>\n",
       "      <td>https://www.cian.ru/cat.php?deal_type=rent&amp;eng...</td>\n",
       "    </tr>\n",
       "    <tr>\n",
       "      <th>79</th>\n",
       "      <td>4630</td>\n",
       "      <td>Челябинская область</td>\n",
       "      <td>None</td>\n",
       "      <td>https://www.cian.ru/cat.php?deal_type=rent&amp;eng...</td>\n",
       "    </tr>\n",
       "    <tr>\n",
       "      <th>80</th>\n",
       "      <td>4631</td>\n",
       "      <td>Чечня</td>\n",
       "      <td>None</td>\n",
       "      <td>https://www.cian.ru/cat.php?deal_type=rent&amp;eng...</td>\n",
       "    </tr>\n",
       "    <tr>\n",
       "      <th>81</th>\n",
       "      <td>4633</td>\n",
       "      <td>Чувашия</td>\n",
       "      <td>None</td>\n",
       "      <td>https://www.cian.ru/cat.php?deal_type=rent&amp;eng...</td>\n",
       "    </tr>\n",
       "    <tr>\n",
       "      <th>82</th>\n",
       "      <td>4634</td>\n",
       "      <td>Чукотский АО</td>\n",
       "      <td>None</td>\n",
       "      <td>https://www.cian.ru/cat.php?deal_type=rent&amp;eng...</td>\n",
       "    </tr>\n",
       "    <tr>\n",
       "      <th>83</th>\n",
       "      <td>4635</td>\n",
       "      <td>Ямало-Ненецкий АО</td>\n",
       "      <td>None</td>\n",
       "      <td>https://www.cian.ru/cat.php?deal_type=rent&amp;eng...</td>\n",
       "    </tr>\n",
       "    <tr>\n",
       "      <th>84</th>\n",
       "      <td>4636</td>\n",
       "      <td>Ярославская область</td>\n",
       "      <td>None</td>\n",
       "      <td>https://www.cian.ru/cat.php?deal_type=rent&amp;eng...</td>\n",
       "    </tr>\n",
       "  </tbody>\n",
       "</table>\n",
       "<p>85 rows × 4 columns</p>\n",
       "</div>"
      ],
      "text/plain": [
       "        id                    title listings  \\\n",
       "0        1                   Москва     None   \n",
       "1     4593       Московская область     None   \n",
       "2        2          Санкт-Петербург     None   \n",
       "3     4588    Ленинградская область     None   \n",
       "4     4553                   Адыгея     None   \n",
       "5     4554       Алтай (Республика)     None   \n",
       "6     4555           Алтайский край     None   \n",
       "7     4556         Амурская область     None   \n",
       "8     4557    Архангельская область     None   \n",
       "9     4558     Астраханская область     None   \n",
       "10    4560             Башкортостан     None   \n",
       "11    4561     Белгородская область     None   \n",
       "12    4562         Брянская область     None   \n",
       "13    4563                  Бурятия     None   \n",
       "14    4564     Владимирская область     None   \n",
       "15    4565    Волгоградская область     None   \n",
       "16    4566      Вологодская область     None   \n",
       "17    4567      Воронежская область     None   \n",
       "18    4568                 Дагестан     None   \n",
       "19    4569             Еврейская АО     None   \n",
       "20  187450       Забайкальский край     None   \n",
       "21    4570       Ивановская область     None   \n",
       "22    4571                Ингушетия     None   \n",
       "23    4572        Иркутская область     None   \n",
       "24    4573       Кабардино-Балкария     None   \n",
       "25    4574  Калининградская область     None   \n",
       "26    4575                 Калмыкия     None   \n",
       "27    4576        Калужская область     None   \n",
       "28    4577          Камчатский край     None   \n",
       "29    4578       Карачаево-Черкесия     None   \n",
       "..     ...                      ...      ...   \n",
       "55    4605        Псковская область     None   \n",
       "56    4606       Ростовская область     None   \n",
       "57    4607        Рязанская область     None   \n",
       "58    4608        Самарская область     None   \n",
       "59    4609      Саратовская область     None   \n",
       "60    4610            Саха (Якутия)     None   \n",
       "61    4611      Сахалинская область     None   \n",
       "62    4612     Свердловская область     None   \n",
       "63  184723              Севастополь     None   \n",
       "64    4613   Северная Осетия-Алания     None   \n",
       "65    4614       Смоленская область     None   \n",
       "66    4615      Ставропольский край     None   \n",
       "67    4617       Тамбовская область     None   \n",
       "68    4618                Татарстан     None   \n",
       "69    4619         Тверская область     None   \n",
       "70    4620          Томская область     None   \n",
       "71    4621         Тульская область     None   \n",
       "72    4622                     Тыва     None   \n",
       "73    4623        Тюменская область     None   \n",
       "74    4624                 Удмуртия     None   \n",
       "75    4625      Ульяновская область     None   \n",
       "76    4627         Хабаровский край     None   \n",
       "77    4628                  Хакасия     None   \n",
       "78    4629      Ханты-Мансийский АО     None   \n",
       "79    4630      Челябинская область     None   \n",
       "80    4631                    Чечня     None   \n",
       "81    4633                  Чувашия     None   \n",
       "82    4634             Чукотский АО     None   \n",
       "83    4635        Ямало-Ненецкий АО     None   \n",
       "84    4636      Ярославская область     None   \n",
       "\n",
       "                                         url_template  \n",
       "0   https://www.cian.ru/cat.php?deal_type=rent&eng...  \n",
       "1   https://www.cian.ru/cat.php?deal_type=rent&eng...  \n",
       "2   https://www.cian.ru/cat.php?deal_type=rent&eng...  \n",
       "3   https://www.cian.ru/cat.php?deal_type=rent&eng...  \n",
       "4   https://www.cian.ru/cat.php?deal_type=rent&eng...  \n",
       "5   https://www.cian.ru/cat.php?deal_type=rent&eng...  \n",
       "6   https://www.cian.ru/cat.php?deal_type=rent&eng...  \n",
       "7   https://www.cian.ru/cat.php?deal_type=rent&eng...  \n",
       "8   https://www.cian.ru/cat.php?deal_type=rent&eng...  \n",
       "9   https://www.cian.ru/cat.php?deal_type=rent&eng...  \n",
       "10  https://www.cian.ru/cat.php?deal_type=rent&eng...  \n",
       "11  https://www.cian.ru/cat.php?deal_type=rent&eng...  \n",
       "12  https://www.cian.ru/cat.php?deal_type=rent&eng...  \n",
       "13  https://www.cian.ru/cat.php?deal_type=rent&eng...  \n",
       "14  https://www.cian.ru/cat.php?deal_type=rent&eng...  \n",
       "15  https://www.cian.ru/cat.php?deal_type=rent&eng...  \n",
       "16  https://www.cian.ru/cat.php?deal_type=rent&eng...  \n",
       "17  https://www.cian.ru/cat.php?deal_type=rent&eng...  \n",
       "18  https://www.cian.ru/cat.php?deal_type=rent&eng...  \n",
       "19  https://www.cian.ru/cat.php?deal_type=rent&eng...  \n",
       "20  https://www.cian.ru/cat.php?deal_type=rent&eng...  \n",
       "21  https://www.cian.ru/cat.php?deal_type=rent&eng...  \n",
       "22  https://www.cian.ru/cat.php?deal_type=rent&eng...  \n",
       "23  https://www.cian.ru/cat.php?deal_type=rent&eng...  \n",
       "24  https://www.cian.ru/cat.php?deal_type=rent&eng...  \n",
       "25  https://www.cian.ru/cat.php?deal_type=rent&eng...  \n",
       "26  https://www.cian.ru/cat.php?deal_type=rent&eng...  \n",
       "27  https://www.cian.ru/cat.php?deal_type=rent&eng...  \n",
       "28  https://www.cian.ru/cat.php?deal_type=rent&eng...  \n",
       "29  https://www.cian.ru/cat.php?deal_type=rent&eng...  \n",
       "..                                                ...  \n",
       "55  https://www.cian.ru/cat.php?deal_type=rent&eng...  \n",
       "56  https://www.cian.ru/cat.php?deal_type=rent&eng...  \n",
       "57  https://www.cian.ru/cat.php?deal_type=rent&eng...  \n",
       "58  https://www.cian.ru/cat.php?deal_type=rent&eng...  \n",
       "59  https://www.cian.ru/cat.php?deal_type=rent&eng...  \n",
       "60  https://www.cian.ru/cat.php?deal_type=rent&eng...  \n",
       "61  https://www.cian.ru/cat.php?deal_type=rent&eng...  \n",
       "62  https://www.cian.ru/cat.php?deal_type=rent&eng...  \n",
       "63  https://www.cian.ru/cat.php?deal_type=rent&eng...  \n",
       "64  https://www.cian.ru/cat.php?deal_type=rent&eng...  \n",
       "65  https://www.cian.ru/cat.php?deal_type=rent&eng...  \n",
       "66  https://www.cian.ru/cat.php?deal_type=rent&eng...  \n",
       "67  https://www.cian.ru/cat.php?deal_type=rent&eng...  \n",
       "68  https://www.cian.ru/cat.php?deal_type=rent&eng...  \n",
       "69  https://www.cian.ru/cat.php?deal_type=rent&eng...  \n",
       "70  https://www.cian.ru/cat.php?deal_type=rent&eng...  \n",
       "71  https://www.cian.ru/cat.php?deal_type=rent&eng...  \n",
       "72  https://www.cian.ru/cat.php?deal_type=rent&eng...  \n",
       "73  https://www.cian.ru/cat.php?deal_type=rent&eng...  \n",
       "74  https://www.cian.ru/cat.php?deal_type=rent&eng...  \n",
       "75  https://www.cian.ru/cat.php?deal_type=rent&eng...  \n",
       "76  https://www.cian.ru/cat.php?deal_type=rent&eng...  \n",
       "77  https://www.cian.ru/cat.php?deal_type=rent&eng...  \n",
       "78  https://www.cian.ru/cat.php?deal_type=rent&eng...  \n",
       "79  https://www.cian.ru/cat.php?deal_type=rent&eng...  \n",
       "80  https://www.cian.ru/cat.php?deal_type=rent&eng...  \n",
       "81  https://www.cian.ru/cat.php?deal_type=rent&eng...  \n",
       "82  https://www.cian.ru/cat.php?deal_type=rent&eng...  \n",
       "83  https://www.cian.ru/cat.php?deal_type=rent&eng...  \n",
       "84  https://www.cian.ru/cat.php?deal_type=rent&eng...  \n",
       "\n",
       "[85 rows x 4 columns]"
      ]
     },
     "execution_count": 10,
     "metadata": {},
     "output_type": "execute_result"
    }
   ],
   "source": [
    "regions"
   ]
  },
  {
   "cell_type": "markdown",
   "metadata": {},
   "source": [
    "# Начинаем качать"
   ]
  },
  {
   "cell_type": "markdown",
   "metadata": {},
   "source": [
    "Установим нужное нам кол-во страниц на область (на странице 50 объявлений)"
   ]
  },
  {
   "cell_type": "code",
   "execution_count": 11,
   "metadata": {
    "collapsed": true
   },
   "outputs": [],
   "source": [
    "LISTINGS_PER_PAGE = 50\n",
    "NUMBER_OF_LISTINGS_PER_REGION = 2000\n",
    "NUMBER_OF_PAGES_PER_REGION = int(NUMBER_OF_LISTINGS_PER_REGION/LISTINGS_PER_PAGE)"
   ]
  },
  {
   "cell_type": "code",
   "execution_count": 12,
   "metadata": {
    "collapsed": true
   },
   "outputs": [],
   "source": [
    "rent = []"
   ]
  },
  {
   "cell_type": "code",
   "execution_count": 13,
   "metadata": {
    "collapsed": false
   },
   "outputs": [
    {
     "name": "stdout",
     "output_type": "stream",
     "text": [
      "\n"
     ]
    }
   ],
   "source": [
    "for row in tqdm_notebook(regions.iterrows()):\n",
    "    try:\n",
    "        r = row[1]\n",
    "        urls = [r.url_template.format(i) for i in range(NUMBER_OF_PAGES_PER_REGION)]\n",
    "        listings = multithread_it(get_data_from_url, urls, threads=25)\n",
    "        listings = sum(listings,[])\n",
    "        rent.append(listings)\n",
    "        time.sleep(0.5)\n",
    "    except:\n",
    "        rent.append(None)"
   ]
  },
  {
   "cell_type": "markdown",
   "metadata": {},
   "source": [
    "Разброс цен и метража в Москве (нужно было, конечно, удалить аномалии)"
   ]
  },
  {
   "cell_type": "code",
   "execution_count": 176,
   "metadata": {
    "collapsed": false
   },
   "outputs": [
    {
     "data": {
      "text/plain": [
       "[<matplotlib.lines.Line2D at 0x11faa1358>]"
      ]
     },
     "execution_count": 176,
     "metadata": {},
     "output_type": "execute_result"
    },
    {
     "data": {
      "image/png": "[encoded data removed]",
      "text/plain": [
       "<matplotlib.figure.Figure at 0x1200182e8>"
      ]
     },
     "metadata": {},
     "output_type": "display_data"
    }
   ],
   "source": [
    "price = [i[0] for i in regions.listings[0]]\n",
    "area = [i[1] for i in regions.listings[0]]\n",
    "plt.plot(area, price, 'ro', alpha=0.2)"
   ]
  },
  {
   "cell_type": "markdown",
   "metadata": {},
   "source": [
    "Цена аренды 1 метра в Москве"
   ]
  },
  {
   "cell_type": "code",
   "execution_count": 170,
   "metadata": {
    "collapsed": false
   },
   "outputs": [
    {
     "data": {
      "text/plain": [
       "''"
      ]
     },
     "execution_count": 170,
     "metadata": {},
     "output_type": "execute_result"
    },
    {
     "data": {
      "image/png": "[encoded data removed]",
      "text/plain": [
       "<matplotlib.figure.Figure at 0x11fd5f7b8>"
      ]
     },
     "metadata": {},
     "output_type": "display_data"
    }
   ],
   "source": [
    "plt.hist([i[0]/i[1] for i in regions.listings[0]], bins=20)\n",
    "''"
   ]
  },
  {
   "cell_type": "markdown",
   "metadata": {},
   "source": [
    "# Делаем общую базу"
   ]
  },
  {
   "cell_type": "code",
   "execution_count": 15,
   "metadata": {
    "collapsed": false
   },
   "outputs": [],
   "source": [
    "regions['listings'] = rent"
   ]
  },
  {
   "cell_type": "code",
   "execution_count": 58,
   "metadata": {
    "collapsed": true
   },
   "outputs": [],
   "source": [
    "regions.to_pickle('cian_regions_data.pkl')"
   ]
  },
  {
   "cell_type": "markdown",
   "metadata": {},
   "source": [
    "# Считаем статистику"
   ]
  },
  {
   "cell_type": "code",
   "execution_count": 18,
   "metadata": {
    "collapsed": true
   },
   "outputs": [],
   "source": [
    "def get_median_price_1m2(list_of_listings):\n",
    "    return np.median([i[0]/i[1] for i in list_of_listings])"
   ]
  },
  {
   "cell_type": "code",
   "execution_count": 21,
   "metadata": {
    "collapsed": false
   },
   "outputs": [
    {
     "name": "stderr",
     "output_type": "stream",
     "text": [
      "/Applications/Utilities/anaconda/lib/python3.5/site-packages/numpy/core/_methods.py:59: RuntimeWarning: Mean of empty slice.\n",
      "  warnings.warn(\"Mean of empty slice.\", RuntimeWarning)\n"
     ]
    }
   ],
   "source": [
    "regions['median_price_1m2'] = [get_median_price_1m2(listings) for listings in regions.listings]"
   ]
  },
  {
   "cell_type": "code",
   "execution_count": 34,
   "metadata": {
    "collapsed": false
   },
   "outputs": [],
   "source": [
    "median_area = np.median([i[1] for i in sum(list(regions.listings), [])])"
   ]
  },
  {
   "cell_type": "code",
   "execution_count": 44,
   "metadata": {
    "collapsed": false
   },
   "outputs": [],
   "source": [
    "regions['price_per_typical_area'] = [median_area*i for i in regions.median_price_1m2]"
   ]
  },
  {
   "cell_type": "code",
   "execution_count": 59,
   "metadata": {
    "collapsed": true
   },
   "outputs": [],
   "source": [
    "regions.to_pickle('cian_regions_data.pkl')"
   ]
  },
  {
   "cell_type": "markdown",
   "metadata": {},
   "source": [
    "# Отдельно сохраним результат"
   ]
  },
  {
   "cell_type": "code",
   "execution_count": 64,
   "metadata": {
    "collapsed": false
   },
   "outputs": [],
   "source": [
    "regions[['title','price_per_typical_area']].to_excel('median_cost.xlsx')"
   ]
  },
  {
   "cell_type": "markdown",
   "metadata": {},
   "source": [
    "А этим потом можно заполнить пропуски, хотя лучше как-то по соседям хотя бы брать\n"
   ]
  },
  {
   "cell_type": "code",
   "execution_count": 70,
   "metadata": {
    "collapsed": false
   },
   "outputs": [
    {
     "data": {
      "text/plain": [
       "11341.353383458645"
      ]
     },
     "execution_count": 70,
     "metadata": {},
     "output_type": "execute_result"
    }
   ],
   "source": [
    "regions.price_per_typical_area.median()"
   ]
  },
  {
   "cell_type": "markdown",
   "metadata": {},
   "source": [
    "# Теперь можно отдельно исследовать цены"
   ]
  },
  {
   "cell_type": "code",
   "execution_count": 89,
   "metadata": {
    "collapsed": false
   },
   "outputs": [],
   "source": [
    "def get_df(listings, bins=40):\n",
    "    df = pd.DataFrame(listings, columns=['price','area'])\n",
    "    df['price_if_area_is_28'] = df.price/df.area*28\n",
    "    df.price_if_area_is_28.hist(bins=bins)"
   ]
  },
  {
   "cell_type": "code",
   "execution_count": 93,
   "metadata": {
    "collapsed": false
   },
   "outputs": [
    {
     "data": {
      "text/plain": [
       "0                   Москва\n",
       "1       Московская область\n",
       "2          Санкт-Петербург\n",
       "3    Ленинградская область\n",
       "4                   Адыгея\n",
       "5       Алтай (Республика)\n",
       "6           Алтайский край\n",
       "7         Амурская область\n",
       "8    Архангельская область\n",
       "9     Астраханская область\n",
       "Name: title, dtype: object"
      ]
     },
     "execution_count": 93,
     "metadata": {},
     "output_type": "execute_result"
    }
   ],
   "source": [
    "regions.title[:10]"
   ]
  },
  {
   "cell_type": "code",
   "execution_count": 95,
   "metadata": {
    "collapsed": false
   },
   "outputs": [
    {
     "data": {
      "image/png": "[encoded data removed]",
      "text/plain": [
       "<matplotlib.figure.Figure at 0x11b807e48>"
      ]
     },
     "metadata": {},
     "output_type": "display_data"
    }
   ],
   "source": [
    "get_df(regions.listings[0])"
   ]
  },
  {
   "cell_type": "code",
   "execution_count": 96,
   "metadata": {
    "collapsed": false
   },
   "outputs": [
    {
     "data": {
      "image/png": "[encoded data removed]",
      "text/plain": [
       "<matplotlib.figure.Figure at 0x11b5680f0>"
      ]
     },
     "metadata": {},
     "output_type": "display_data"
    }
   ],
   "source": [
    "get_df(regions.listings[1])"
   ]
  },
  {
   "cell_type": "code",
   "execution_count": 97,
   "metadata": {
    "collapsed": false
   },
   "outputs": [
    {
     "data": {
      "image/png": "[encoded data removed]",
      "text/plain": [
       "<matplotlib.figure.Figure at 0x11a9fcda0>"
      ]
     },
     "metadata": {},
     "output_type": "display_data"
    }
   ],
   "source": [
    "get_df(regions.listings[2])"
   ]
  },
  {
   "cell_type": "code",
   "execution_count": 130,
   "metadata": {
    "collapsed": false
   },
   "outputs": [],
   "source": [
    "shaverma = pd.read_excel('shaverma-2.xlsx')"
   ]
  },
  {
   "cell_type": "code",
   "execution_count": 124,
   "metadata": {
    "collapsed": true
   },
   "outputs": [],
   "source": [
    "import seabornrn"
   ]
  },
  {
   "cell_type": "code",
   "execution_count": 131,
   "metadata": {
    "collapsed": false
   },
   "outputs": [
    {
     "data": {
      "text/plain": [
       "<matplotlib.axes._subplots.AxesSubplot at 0x11b51c208>"
      ]
     },
     "execution_count": 131,
     "metadata": {},
     "output_type": "execute_result"
    },
    {
     "data": {
      "image/png": "[encoded data removed]",
      "text/plain": [
       "<matplotlib.figure.Figure at 0x104f77320>"
      ]
     },
     "metadata": {},
     "output_type": "display_data"
    }
   ],
   "source": [
    "shaverma.shaverma.hist()"
   ]
  },
  {
   "cell_type": "markdown",
   "metadata": {},
   "source": [
    "# В среднем по стране"
   ]
  },
  {
   "cell_type": "code",
   "execution_count": 132,
   "metadata": {
    "collapsed": false
   },
   "outputs": [
    {
     "data": {
      "text/plain": [
       "2.1717283950617285"
      ]
     },
     "execution_count": 132,
     "metadata": {},
     "output_type": "execute_result"
    }
   ],
   "source": [
    "a_sh = shaverma.shaverma.median()\n",
    "a_rent = shaverma.rent.median()\n",
    "a_sal = shaverma.salary.median()\n",
    "a_l = shaverma.minimum4living.median()\n",
    "(a_sal-a_rent-a_l)/a_sh/30"
   ]
  },
  {
   "cell_type": "code",
   "execution_count": 134,
   "metadata": {
    "collapsed": false
   },
   "outputs": [
    {
     "data": {
      "text/plain": [
       "Index(['region', 'region_transcription', 'salary', 'rent', 'minimum4living',\n",
       "       'shaverma', 'shaverma_index_daily', 'Unnamed: 7'],\n",
       "      dtype='object')"
      ]
     },
     "execution_count": 134,
     "metadata": {},
     "output_type": "execute_result"
    }
   ],
   "source": [
    "shaverma.columns"
   ]
  },
  {
   "cell_type": "code",
   "execution_count": 140,
   "metadata": {
    "collapsed": true
   },
   "outputs": [],
   "source": [
    "cols = shaverma.columns[2:]"
   ]
  },
  {
   "cell_type": "code",
   "execution_count": 143,
   "metadata": {
    "collapsed": false
   },
   "outputs": [
    {
     "name": "stdout",
     "output_type": "stream",
     "text": [
      "salary 26070.0\n",
      "rent 8820.777777777777\n",
      "minimum4living 9431.0\n",
      "shaverma 120.0\n",
      "shaverma_index_daily 2.42\n"
     ]
    }
   ],
   "source": [
    "for col in cols:\n",
    "    try:\n",
    "        print(col,shaverma[col].median())\n",
    "    except:\n",
    "        pass"
   ]
  },
  {
   "cell_type": "code",
   "execution_count": 154,
   "metadata": {
    "collapsed": false
   },
   "outputs": [
    {
     "data": {
      "text/plain": [
       "<matplotlib.axes._subplots.AxesSubplot at 0x11ba703c8>"
      ]
     },
     "execution_count": 154,
     "metadata": {},
     "output_type": "execute_result"
    },
    {
     "data": {
      "image/png": "[encoded data removed]",
      "text/plain": [
       "<matplotlib.figure.Figure at 0x11d5503c8>"
      ]
     },
     "metadata": {},
     "output_type": "display_data"
    }
   ],
   "source": [
    "shaverma.salary.hist(bins=20)"
   ]
  },
  {
   "cell_type": "code",
   "execution_count": 146,
   "metadata": {
    "collapsed": false
   },
   "outputs": [
    {
     "data": {
      "text/plain": [
       "<matplotlib.axes._subplots.AxesSubplot at 0x11d9c6400>"
      ]
     },
     "execution_count": 146,
     "metadata": {},
     "output_type": "execute_result"
    },
    {
     "data": {
      "image/png": "[encoded data removed]",
      "text/plain": [
       "<matplotlib.figure.Figure at 0x11daf8240>"
      ]
     },
     "metadata": {},
     "output_type": "display_data"
    }
   ],
   "source": [
    "shaverma.rent.hist()"
   ]
  },
  {
   "cell_type": "code",
   "execution_count": 153,
   "metadata": {
    "collapsed": false,
    "scrolled": true
   },
   "outputs": [
    {
     "data": {
      "text/plain": [
       "<matplotlib.axes._subplots.AxesSubplot at 0x11afdc4e0>"
      ]
     },
     "execution_count": 153,
     "metadata": {},
     "output_type": "execute_result"
    },
    {
     "data": {
      "image/png": "[encoded data removed]",
      "text/plain": [
       "<matplotlib.figure.Figure at 0x11ba54748>"
      ]
     },
     "metadata": {},
     "output_type": "display_data"
    }
   ],
   "source": [
    "shaverma.minimum4living.hist(bins=20)"
   ]
  },
  {
   "cell_type": "code",
   "execution_count": 244,
   "metadata": {
    "collapsed": true
   },
   "outputs": [],
   "source": [
    "plt.rcParams[\"figure.figsize\"] = [8, 5.5]\n",
    "plt.rcParams[\"axes.labelsize\"] = 14"
   ]
  },
  {
   "cell_type": "code",
   "execution_count": 245,
   "metadata": {
    "collapsed": false
   },
   "outputs": [
    {
     "data": {
      "text/plain": [
       "<matplotlib.text.Text at 0x123a1bb70>"
      ]
     },
     "execution_count": 245,
     "metadata": {},
     "output_type": "execute_result"
    },
    {
     "data": {
      "image/png": "[encoded data removed]",
      "text/plain": [
       "<matplotlib.figure.Figure at 0x123a38940>"
      ]
     },
     "metadata": {},
     "output_type": "display_data"
    }
   ],
   "source": [
    "shaverma.shaverma.hist(bins=10)\n",
    "plt.xlabel('Цена шавермы')\n",
    "plt.ylabel('Количество регионов')"
   ]
  },
  {
   "cell_type": "code",
   "execution_count": 246,
   "metadata": {
    "collapsed": false
   },
   "outputs": [
    {
     "data": {
      "text/plain": [
       "<matplotlib.text.Text at 0x123b7a0b8>"
      ]
     },
     "execution_count": 246,
     "metadata": {},
     "output_type": "execute_result"
    },
    {
     "data": {
      "image/png": "[encoded data removed]",
      "text/plain": [
       "<matplotlib.figure.Figure at 0x123ba6208>"
      ]
     },
     "metadata": {},
     "output_type": "display_data"
    }
   ],
   "source": [
    "shaverma.shaverma_index_daily.hist(bins=20)\n",
    "plt.xlabel('Шаверм / день')\n",
    "plt.ylabel('Количество регионов')"
   ]
  },
  {
   "cell_type": "code",
   "execution_count": 203,
   "metadata": {
    "collapsed": false
   },
   "outputs": [],
   "source": [
    "shaverma = pd.read_excel('Shaverma Index.xlsx')"
   ]
  },
  {
   "cell_type": "code",
   "execution_count": 206,
   "metadata": {
    "collapsed": false
   },
   "outputs": [],
   "source": [
    "shaverma.columns = [i.strip() for i in shaverma.columns]"
   ]
  },
  {
   "cell_type": "code",
   "execution_count": 212,
   "metadata": {
    "collapsed": false
   },
   "outputs": [
    {
     "data": {
      "text/plain": [
       "[<matplotlib.lines.Line2D at 0x119f815f8>]"
      ]
     },
     "execution_count": 212,
     "metadata": {},
     "output_type": "execute_result"
    },
    {
     "data": {
      "image/png": "[encoded data removed]",
      "text/plain": [
       "<matplotlib.figure.Figure at 0x119e7cd30>"
      ]
     },
     "metadata": {},
     "output_type": "display_data"
    }
   ],
   "source": [
    "plt.plot(shaverma.classic_bigmac_index, shaverma.shaverma_index_daily, 'ro')"
   ]
  },
  {
   "cell_type": "code",
   "execution_count": null,
   "metadata": {
    "collapsed": true
   },
   "outputs": [],
   "source": []
  }
 ],
 "metadata": {
  "anaconda-cloud": {},
  "kernelspec": {
   "display_name": "Python [Root]",
   "language": "python",
   "name": "Python [Root]"
  },
  "language_info": {
   "codemirror_mode": {
    "name": "ipython",
    "version": 3
   },
   "file_extension": ".py",
   "mimetype": "text/x-python",
   "name": "python",
   "nbconvert_exporter": "python",
   "pygments_lexer": "ipython3",
   "version": "3.5.2"
  }
 },
 "nbformat": 4,
 "nbformat_minor": 2
}
